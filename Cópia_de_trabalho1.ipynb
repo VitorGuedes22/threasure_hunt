{
 "cells": [
  {
   "cell_type": "markdown",
   "metadata": {
    "colab_type": "text",
    "id": "view-in-github"
   },
   "source": [
    "<a href=\"https://colab.research.google.com/github/VitorGuedes22/threasure_hunt/blob/main/C%C3%B3pia_de_trabalho1.ipynb\" target=\"_parent\"><img src=\"https://colab.research.google.com/assets/colab-badge.svg\" alt=\"Open In Colab\"/></a>"
   ]
  },
  {
   "cell_type": "code",
   "execution_count": 1,
   "metadata": {},
   "outputs": [
    {
     "name": "stderr",
     "output_type": "stream",
     "text": [
      "C:\\Users\\VGF\\AppData\\Local\\Programs\\Python\\Python313\\Scripts\\jupyter-nbconvert.EXE\\__main__.py:4: DeprecationWarning: Parsing dates involving a day of month without a year specified is ambiguious\n",
      "and fails to parse leap day. The default behavior will change in Python 3.15\n",
      "to either always raise an exception or to use a different default year (TBD).\n",
      "To avoid trouble, add a specific year to the input & format.\n",
      "See https://github.com/python/cpython/issues/70647.\n",
      "[NbConvertApp] Converting notebook Cópia_de_trabalho1.ipynb to script\n",
      "[NbConvertApp] Writing 10651 bytes to Cópia_de_trabalho1.py\n"
     ]
    }
   ],
   "source": [
    "!jupyter nbconvert --to script Cópia_de_trabalho1.ipynb\n"
   ]
  },
  {
   "cell_type": "markdown",
   "metadata": {
    "id": "mqVqquXFW6Y1"
   },
   "source": [
    "#**Caça ao Tesouro**\n",
    "\n",
    "### **Trabalho 1**\n",
    "Neste trabalho, o(a) aluno(a) deve implementar três algoritmos de busca (Busca de Custo Uniforme, Busca Gulosa e A*) para resolver um problema de caça ao tesouro em um mapa. O objetivo é encontrar o caminho mais curto ou mais eficiente para coletar o tesouro que se encontra no mapa.\n",
    "\n",
    "#### **Configuração do Problema**\n",
    "1. **Mapa de matriz**: O ambiente é representado como uma matriz, onde cada célula pode ser:\n",
    "   - Uma **célula vazia** (o robô pode passar por ela e o custo é 1),\n",
    "   - Um **obstáculo** (o robô não pode passar por ela),\n",
    "   - Uma **lama** (o custo para passar por essa célula é 5),\n",
    "   - Um **tesouro** (o robô pode coletar ao alcançar essa célula).\n",
    "   \n",
    "2. **Posição Inicial**: A posição inicial sera passada como parametro.\n",
    "3. **Posição do Tesouro**: A posição do tesouro sera passada como parametro.\n",
    "\n",
    "#### **Exemplo de Mapa**\n",
    "- `I` = Posição Inicial\n",
    "- `T` = Tesouro\n",
    "- `#` = Obstáculo\n",
    "- `L` = Lama\n",
    "- `.` = Célula Vazia\n",
    "\n",
    "Exemplo de Mapa:\n",
    "\n",
    "```\n",
    "I # . # L L T\n",
    ". # . # L # .\n",
    ". # . # L # .\n",
    ". # . . . # .\n",
    ". # . # . # .\n",
    ". # . # . # .\n",
    ". . . # . . .\n",
    "```\n",
    "\n",
    "### **Implementação dos Algoritmos**\n",
    "1. **Busca de Custo Uniforme (UCS)**\n",
    "   - Implemente a Busca de Custo Uniforme para encontrar o caminho mais curto da posição inicial até um tesouro.\n",
    "\n",
    "2. **Busca Gulosa**\n",
    "   - Implemente uma busca gulosa para encontrar um caminho ao tesouro.\n",
    "   - A heurística deve ser a [distância Manhattan](https://pt.wikipedia.org/wiki/Geometria_do_t%C3%A1xi) entre a posição atual e a posição do tesouro.\n",
    "  \n",
    "3. **Busca A\\***\n",
    "   - Implemente o algoritmo de busca A* para coletar todo o tesouro.\n",
    "   - A heurística deve ser também a [distância Manhattan](https://pt.wikipedia.org/wiki/Geometria_do_t%C3%A1xi).\n",
    "\n",
    "\n",
    "### **Retorno das Funções**\n",
    "\n",
    "Cada função de busca deverá retornar um array contendo as posições que representam o caminho percorrido até o tesouro. Esse array deve listar, em ordem, todas as coordenadas visitadas pelo algoritmo, desde a posição inicial até a posição do tesouro final. As coordenadas devem ser organizadas no formato `(linha, coluna)`, facilitando a visualização do percurso realizado pelo robô no mapa.\n",
    "\n",
    "Caso não exista um caminho possível até o tesouro, a função deve retornar um array vazio `([])`.\n",
    "\n",
    "**Exemplo de Retorno:**\n",
    "```python\n",
    "[(0, 0), (1, 0), (2, 0), (3, 0), (4, 0), (5, 0), (6, 0), (6, 1), (6, 2), (5, 2), (4, 2), (3, 2), (3, 3), (3, 4), (2, 4), (1, 4), (0, 4), (0, 5), (0, 6)]\n",
    "```\n",
    "\n",
    "\n",
    "#### **Desafio: Múltiplos Tesouros**\n",
    "   - Altere as funções da Busca Gulosa e Busca A* para receber como parâmetro um array com a posição de vários tesouros, e calcule uma rota para coletar todos.\n",
    "\n",
    "\n",
    "### **Entrega**\n",
    "A entrega deverá ser realizada pela plataforma **Aprender3**. O aluno deve submeter para correção a função principal de busca e todas as funções auxiliares correspondentes ao algoritmo de busca em avaliação."
   ]
  },
  {
   "cell_type": "code",
   "execution_count": 5,
   "metadata": {
    "cellView": "form",
    "id": "RnfBjAti2Zhh"
   },
   "outputs": [
    {
     "ename": "ModuleNotFoundError",
     "evalue": "No module named 'matplotlib'",
     "output_type": "error",
     "traceback": [
      "\u001b[1;31m---------------------------------------------------------------------------\u001b[0m",
      "\u001b[1;31mModuleNotFoundError\u001b[0m                       Traceback (most recent call last)",
      "Cell \u001b[1;32mIn[5], line 2\u001b[0m\n\u001b[0;32m      1\u001b[0m \u001b[38;5;66;03m#@title Funções geradores de imagem\u001b[39;00m\n\u001b[1;32m----> 2\u001b[0m \u001b[38;5;28;01mimport\u001b[39;00m \u001b[38;5;21;01mmatplotlib\u001b[39;00m\u001b[38;5;21;01m.\u001b[39;00m\u001b[38;5;21;01mpyplot\u001b[39;00m \u001b[38;5;28;01mas\u001b[39;00m \u001b[38;5;21;01mplt\u001b[39;00m\n\u001b[0;32m      3\u001b[0m \u001b[38;5;28;01mimport\u001b[39;00m \u001b[38;5;21;01mnumpy\u001b[39;00m \u001b[38;5;28;01mas\u001b[39;00m \u001b[38;5;21;01mnp\u001b[39;00m\n\u001b[0;32m      4\u001b[0m \u001b[38;5;28;01mfrom\u001b[39;00m \u001b[38;5;21;01mmatplotlib\u001b[39;00m\u001b[38;5;21;01m.\u001b[39;00m\u001b[38;5;21;01mcolors\u001b[39;00m \u001b[38;5;28;01mimport\u001b[39;00m ListedColormap\n",
      "\u001b[1;31mModuleNotFoundError\u001b[0m: No module named 'matplotlib'"
     ]
    }
   ],
   "source": [
    "#@title Funções geradores de imagem\n",
    "import matplotlib.pyplot as plt\n",
    "import numpy as np\n",
    "from matplotlib.colors import ListedColormap\n",
    "from collections import defaultdict\n",
    "\n",
    "def print_mapa(grid, caminho=[], title=\"\"):\n",
    "    \"\"\"\n",
    "    Esta função gera uma representação visual do mapa usando matplotlib.\n",
    "    \"\"\"\n",
    "    cores = [\n",
    "        \"#9c5a3c\",  # Nada\n",
    "        \"#3d1e10\",  # Obstaculo\n",
    "        \"#FFCA00\",  # Tesouro\n",
    "        \"#EBCF87\",  # Caminho\n",
    "        \"#EBAD87\"   # Lama\n",
    "    ]\n",
    "\n",
    "    grid_cores = {\n",
    "        '.': 0,  # Vazio\n",
    "        '#': 1,  # Obstaculo\n",
    "        'I': 0,  # Inicio\n",
    "        'T': 2,  # Tesouro\n",
    "        '*': 3,  # Caminho\n",
    "        'L': 4   # Lama\n",
    "    }\n",
    "\n",
    "    # cria um colormap personalizado\n",
    "    cmap = ListedColormap(cores)\n",
    "\n",
    "    n, m = len(grid), len(grid[0])\n",
    "    map_visual = np.zeros((n, m))\n",
    "\n",
    "    # Conte quantas vezes cada célula é visitada no caminho\n",
    "    path_indices = defaultdict(list)\n",
    "\n",
    "    for idx, pos in enumerate(caminho):\n",
    "        path_indices[pos].append(idx)\n",
    "\n",
    "\n",
    "    for i in range(n):\n",
    "        for j in range(m):\n",
    "            # Altera as cores das celulas que estao no caminho\n",
    "            if (i, j) in caminho:\n",
    "                if grid[i][j] == 'I':\n",
    "                    map_visual[i][j] = grid_cores['*']\n",
    "                elif grid[i][j] == 'T':\n",
    "                    map_visual[i][j] = grid_cores['*']\n",
    "                elif grid[i][j] == '.':\n",
    "                    map_visual[i][j] = grid_cores['*']\n",
    "                elif grid[i][j] == 'L':\n",
    "                    map_visual[i][j] = grid_cores['*']\n",
    "                else:\n",
    "                    map_visual[i][j] = grid_cores[grid[i][j]]\n",
    "            else:\n",
    "                map_visual[i][j] = grid_cores.get(grid[i][j], 0)\n",
    "\n",
    "    if title:\n",
    "        plt.title(title)\n",
    "    # Plota o mapa\n",
    "    plt.imshow(map_visual, cmap=cmap, vmin=0, vmax=len(cores) - 1)\n",
    "\n",
    "    # Adicionar anotações de texto a cada célula\n",
    "    for i in range(n):\n",
    "        for j in range(m):\n",
    "            # Exibir o indice do caminho no canto inferior direito se a celula estiver no caminho\n",
    "            if (i, j) in path_indices:\n",
    "                index = \", \".join(map(str, path_indices[(i, j)]))\n",
    "                plt.text(j + 0.35, i + 0.35, index, ha='right', va='bottom', color='red', fontsize=4)\n",
    "                plt.text(j, i, grid[i][j], ha='center', va='center', color='black', fontsize=12, fontweight='bold')\n",
    "            else:\n",
    "               plt.text(j, i, grid[i][j], ha='center', va='center', color='white', fontsize=12, fontweight='bold')\n",
    "\n",
    "\n",
    "\n",
    "    plt.grid(which='both', color='black', linestyle='-', linewidth=2)\n",
    "    plt.xticks(np.arange(-0.5, m, 1), [])\n",
    "    plt.yticks(np.arange(-0.5, n, 1), [])\n",
    "\n",
    "    # Mostra o mapa\n",
    "    plt.show()\n",
    "\n",
    "def print_caminho(grid, caminho, title=\"\"):\n",
    "    \"\"\"\n",
    "    Esta função recebe uma matriz e um caminho como argumentos e mostra o caminho percorrido na matriz.\n",
    "    \"\"\"\n",
    "    # Cria uma copia da grade para evitar modificar a original\n",
    "    grid_copia = [linha[:] for linha in grid]\n",
    "\n",
    "    # Marque o caminho com '*'\n",
    "    for (x, y) in caminho:\n",
    "        if grid_copia[x][y] == '.':  # Marca apenas celulas vazias\n",
    "            grid_copia[x][y] = '*'\n",
    "\n",
    "    print_mapa(grid_copia, caminho, title)\n",
    "\n"
   ]
  },
  {
   "cell_type": "markdown",
   "metadata": {
    "id": "G28w7LF-gsEP"
   },
   "source": [
    "Para facilitar a visualização do problema, duas funções auxiliares estão disponíveis: print_mapa e print_caminho. Abaixo, veja exemplos de uso dessas funções."
   ]
  },
  {
   "cell_type": "code",
   "execution_count": null,
   "metadata": {
    "colab": {
     "base_uri": "https://localhost:8080/",
     "height": 805
    },
    "id": "7MdPlTfe4P3H",
    "outputId": "13e19cfa-ce5f-4f43-e240-c4bf87836f70"
   },
   "outputs": [],
   "source": [
    "mapa = [\n",
    "    ['I', '#', '.', '#', 'L', 'L', 'T'],\n",
    "    ['.', '#', '.', '#', 'L', '#', '.'],\n",
    "    ['.', '#', '.', '#', 'L', '#', '.'],\n",
    "    ['.', '#', '.', '.', '.', '#', '.'],\n",
    "    ['.', '#', '.', '#', '.', '#', '.'],\n",
    "    ['.', '#', '.', '#', '.', '#', '.'],\n",
    "    ['.', '.', '.', '#', '.', '.', '.'],\n",
    "]\n",
    "\n",
    "caminho = [(0, 0), (1, 0), (2, 0), (3, 0), (4, 0), (5, 0), (6, 0), (6, 1), (6, 2), (5, 2), (4, 2), (3, 2), (3, 3), (3, 4), (2, 4), (1, 4), (0, 4), (0, 5), (0, 6)]\n",
    "\n",
    "# Mostra o mapa inicial\n",
    "print_mapa(mapa)\n",
    "\n",
    "# Mostra a grid com o caminho\n",
    "print_caminho(mapa, caminho)\n"
   ]
  },
  {
   "cell_type": "code",
   "execution_count": null,
   "metadata": {
    "id": "45st3it3hkkD"
   },
   "outputs": [],
   "source": [
    "def busca_custo_uniforme(grid, pos_inicial, pos_tesouro):\n",
    "    caminho = []\n",
    "\n",
    "    pass"
   ]
  },
  {
   "cell_type": "code",
   "execution_count": null,
   "metadata": {
    "id": "-51tTZvesXuB"
   },
   "outputs": [],
   "source": [
    "def busca_gulosa(grid, pos_inicial, pos_tesouro):\n",
    "    pass"
   ]
  },
  {
   "cell_type": "code",
   "execution_count": null,
   "metadata": {
    "id": "_qYBZ7fUNLwU"
   },
   "outputs": [],
   "source": [
    "def busca_a_estrela(grid, pos_inicial, pos_tesouro):\n",
    "    pass"
   ]
  },
  {
   "cell_type": "code",
   "execution_count": null,
   "metadata": {
    "colab": {
     "base_uri": "https://localhost:8080/",
     "height": 1000
    },
    "id": "mauuHli9kD0o",
    "outputId": "22d1541e-4352-490e-e31b-424bbe726c85"
   },
   "outputs": [],
   "source": [
    "grid = [\n",
    "    ['I', '.', '#', '.', '.', '.', '.', '.', '.', '.'],\n",
    "    ['#', '.', '#', '#', '.', '#', '#', '.', '#', '.'],\n",
    "    ['.', '.', '.', '.', '.', '.', '#', '.', '.', '.'],\n",
    "    ['#', '.', '#', '.', '#', '.', '.', '.', '#', '.'],\n",
    "    ['.', '.', '#', '.', '.', '#', '#', '.', '#', '.'],\n",
    "    ['.', '#', '.', '.', '.', '.', '#', '.', '#', '.'],\n",
    "    ['.', '.', '.', '#', '.', '.', '.', '.', '#', 'T'],\n",
    "    ['.', '#', '#', '.', '#', '#', '.', '#', '#', '.'],\n",
    "    ['.', '.', '.', '.', '.', '.', '.', '.', '#', '.'],\n",
    "    ['.', '.', '#', '.', '#', '.', '#', '.', '.', '.'],\n",
    "]\n",
    "pos_inicial = (0, 0)\n",
    "pos_tesouro = (6, 9)\n",
    "\n",
    "print_mapa(grid)\n",
    "\n",
    "# caminho_bcu = busca_custo_uniforme(grid, pos_inicial, pos_tesouro)\n",
    "# caminho_gulosa = busca_gulosa(grid, pos_inicial, pos_tesouro)\n",
    "# caminho_a_estrela = busca_a_estrela(grid, pos_inicial, pos_tesouro)\n",
    "\n",
    "caminho_bcu = [(0, 0), (0, 1), (1, 1), (2, 1), (2, 2), (2, 3), (2, 4), (2, 5), (3, 5), (3, 6), (3, 7), (2, 7), (2, 8), (2, 9), (3, 9), (4, 9), (5, 9), (6, 9)]\n",
    "caminho_gulosa = [(0, 0), (0, 1), (1, 1), (2, 1), (2, 2), (2, 3), (2, 4), (2, 5), (3, 5), (3, 6), (3, 7), (4, 7), (5, 7), (6, 7), (6, 6), (7, 6), (8, 6), (8, 7), (9, 7), (9, 8), (9, 9), (8, 9), (7, 9), (6, 9)]\n",
    "caminho_a_estrela = [(0, 0), (0, 1), (1, 1), (2, 1), (2, 2), (2, 3), (2, 4), (2, 5), (3, 5), (3, 6), (3, 7), (2, 7), (2, 8), (2, 9), (3, 9), (4, 9), (5, 9), (6, 9)]\n",
    "\n",
    "print_caminho(grid, caminho_bcu, \"Custo uniforme\")\n",
    "print_caminho(grid, caminho_gulosa, \"Gulosa\")\n",
    "print_caminho(grid, caminho_a_estrela, \"A*\")"
   ]
  },
  {
   "cell_type": "code",
   "execution_count": null,
   "metadata": {
    "colab": {
     "base_uri": "https://localhost:8080/",
     "height": 1000
    },
    "id": "N7dOeRXAu9es",
    "outputId": "b1ac113a-c40a-45f5-b735-d05d0512fb13"
   },
   "outputs": [],
   "source": [
    "grid = [\n",
    "    ['I', '.', '.', '.', '.', '.'],\n",
    "    ['#', '#', '.', '#', '#', '.'],\n",
    "    ['.', '.', '.', '#', 'L', '.'],\n",
    "    ['.', 'L', '#', 'T', '.', '.'],\n",
    "    ['.', '.', '.', '.', '.', '.']\n",
    "]\n",
    "pos_inicial = (0, 0)\n",
    "pos_tesouro = (3, 3)\n",
    "\n",
    "# caminho_bcu = busca_custo_uniforme(grid, pos_inicial, pos_tesouro)\n",
    "# caminho_gulosa = busca_gulosa(grid, pos_inicial, pos_tesouro)\n",
    "# caminho_a_estrela = busca_a_estrela(grid, pos_inicial, pos_tesouro)\n",
    "\n",
    "caminho_bcu = [(0, 0), (0, 1), (0, 2), (0, 3), (0, 4), (0, 5), (1, 5), (2, 5), (3, 5), (3, 4), (3, 3)]\n",
    "caminho_gulosa = [(0, 0), (0, 1), (0, 2), (1, 2), (2, 2), (2, 1), (3, 1), (4, 1), (4, 2), (4, 3), (3, 3)]\n",
    "caminho_a_estrela = [(0, 0), (0, 1), (0, 2), (0, 3), (0, 4), (0, 5), (1, 5), (2, 5), (3, 5), (3, 4), (3, 3)]\n",
    "\n",
    "print_caminho(grid, caminho_bcu, \"Custo uniforme\")\n",
    "print_caminho(grid, caminho_gulosa, \"Gulosa\")\n",
    "print_caminho(grid, caminho_a_estrela, \"A*\")\n"
   ]
  },
  {
   "cell_type": "code",
   "execution_count": null,
   "metadata": {
    "colab": {
     "base_uri": "https://localhost:8080/",
     "height": 794
    },
    "id": "ZL1QwYlj4n1A",
    "outputId": "2cb248a3-4bd9-4491-da59-a0808597739f"
   },
   "outputs": [],
   "source": [
    "\n",
    "grid = [\n",
    "    ['I', '.', 'L', 'L', 'L', '.', 'T'],\n",
    "    ['.', '.', '.', 'L', '.', '.', '.'],\n",
    "    ['.', '.', '.', '.', '.', '.', '.'],\n",
    "]\n",
    "pos_inicial = (0, 0)\n",
    "tesouro = (0, 6)\n",
    "\n",
    "# caminho_bcu = busca_custo_uniforme(grid, pos_inicial, tesouro)\n",
    "# caminho_gulosa = busca_gulosa(grid, pos_inicial, tesouro)\n",
    "# caminho_a_estrela = busca_a_estrela(grid, pos_inicial, tesouro)\n",
    "\n",
    "caminho_bcu = [(0, 0), (0, 1), (1, 1), (1, 2), (2, 2), (2, 3), (2, 4), (1, 4), (1, 5), (0, 5), (0, 6)]\n",
    "caminho_gulosa = [(0, 0), (0, 1), (0, 2), (0, 3), (0, 4), (0, 5), (0, 6)]\n",
    "caminho_a_estrela = [(0, 0), (0, 1), (1, 1), (1, 2), (2, 2), (2, 3), (2, 4), (1, 4), (1, 5), (0, 5), (0, 6)]\n",
    "\n",
    "print_caminho(grid, caminho_bcu, \"Busca custo uniforme\")\n",
    "print_caminho(grid, caminho_gulosa, \"Busca gulosa\")\n",
    "print_caminho(grid, caminho_a_estrela, \"Busca A*\")"
   ]
  }
 ],
 "metadata": {
  "colab": {
   "include_colab_link": true,
   "provenance": []
  },
  "kernelspec": {
   "display_name": "Python 3",
   "name": "python3"
  },
  "language_info": {
   "codemirror_mode": {
    "name": "ipython",
    "version": 3
   },
   "file_extension": ".py",
   "mimetype": "text/x-python",
   "name": "python",
   "nbconvert_exporter": "python",
   "pygments_lexer": "ipython3",
   "version": "3.13.0"
  }
 },
 "nbformat": 4,
 "nbformat_minor": 0
}
